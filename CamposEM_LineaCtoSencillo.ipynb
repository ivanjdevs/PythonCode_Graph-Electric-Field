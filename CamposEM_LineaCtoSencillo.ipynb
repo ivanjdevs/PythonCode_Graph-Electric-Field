{
 "cells": [
  {
   "cell_type": "markdown",
   "id": "7878aaec-89a0-4c8b-98e1-f6488ab2d033",
   "metadata": {},
   "source": [
    "<H2> Cálculo de campo eléctrico línea circuito sencillo"
   ]
  },
  {
   "cell_type": "code",
   "execution_count": 1,
   "id": "9bcf9701-7152-44b3-aea3-4fca7585d0fe",
   "metadata": {},
   "outputs": [],
   "source": [
    "import pandas as pd\n",
    "import numpy as np\n",
    "import cmath\n",
    "import math\n",
    "import matplotlib.pyplot as plt"
   ]
  },
  {
   "cell_type": "markdown",
   "id": "c52897f0-2e1b-41e0-b6c1-9ac973bdd9a1",
   "metadata": {},
   "source": [
    "<H3> Parámetros de entrada"
   ]
  },
  {
   "cell_type": "code",
   "execution_count": 2,
   "id": "de860fc6-29ca-493b-9c5b-d7e149b65bbf",
   "metadata": {},
   "outputs": [],
   "source": [
    "V=230; # Tensión, en kV\n",
    "F=60; # Frecuencia, en Hz\n",
    "DC=19.55 # Diámetro del cable conductor, en mm\n",
    "NSub=2; # Número de subconductores\n",
    "S=457; #Separación entre subconductores, en mm. (Cero si Nsub=1)\n",
    "FL=13.0; #Flecha promedio de los conductores\n",
    "X1,X2=(-15,15) #Límites izquierdo y derecho de la servidumbre\n",
    "NI=121 # Cantidad de intervalos en que desea sea dividido el ancho de servidumbre (Define la resolución de la gráfica obtenida)\n",
    "H=1 #Altura de la medición del campo eléctrico (generalmente, 1 m)\n",
    "\n",
    "## Disposición de las fases:\n",
    "\n",
    "# FaseA_X Distancia desde la fase A hasta el eje de la torre (positiva si está a la derecha del eje de la torre, negativa si lo contrario)\n",
    "# FaseB_X Distancia desde la fase B hasta el eje de la torre (positiva si está a la derecha del eje de la torre, negativa si lo contrario)\n",
    "# FaseC_X Distancia desde la fase C hasta el eje de la torre (positiva si está a la derecha del eje de la torre, negativa si lo contrario)\n",
    "# FaseA_Y Altura de la fase A con respecto al nivel del terreno\n",
    "# FaseB_Y Altura de la fase B con respecto al nivel del terreno\n",
    "# FaseC_Y Altura de la fase C con respecto al nivel del terreno\n",
    "\n",
    "FaseA_X, FaseA_Y = (5.5,30.5)\n",
    "FaseB_X, FaseB_Y = (-5.5,27.5)\n",
    "FaseC_X, FaseC_Y = (5.5,24.5)"
   ]
  },
  {
   "cell_type": "markdown",
   "id": "3dc805d3-f727-4057-b4cd-1ef4e1b868bd",
   "metadata": {},
   "source": [
    "<H3> Cálculo"
   ]
  },
  {
   "cell_type": "code",
   "execution_count": 3,
   "id": "7e5290ce-fa61-4e58-85dd-f8bb810dd4f4",
   "metadata": {},
   "outputs": [
    {
     "name": "stdout",
     "output_type": "stream",
     "text": [
      "66.83692841536032\n"
     ]
    }
   ],
   "source": [
    "if NSub>1:\n",
    "    Rhaz=S/(2*np.sin(np.pi/NSub))\n",
    "    Req=((DC/2)*NSub*(Rhaz**(NSub-1)))**(1/NSub)\n",
    "else:\n",
    "    Req=DC/2\n",
    "\n",
    "print(Req)\n",
    "\n",
    "#Constante equivalente permitividad del aire\n",
    "e0=1/(36*np.pi)*10**-9"
   ]
  },
  {
   "cell_type": "code",
   "execution_count": 4,
   "id": "aa703bd5-60cb-4ba4-8cba-bd3d37a1bf14",
   "metadata": {},
   "outputs": [
    {
     "name": "stdout",
     "output_type": "stream",
     "text": [
      "La matriz de tensiones es:\n",
      " [[132790.56191361     +0.j]\n",
      " [-66395.28095681+115000.j]\n",
      " [-66395.28095681-115000.j]]\n",
      "\n",
      "La matriz P es:\n",
      " [[1.16677522e+11 2.66294244e+10 3.30662891e+10]\n",
      " [2.66294244e+10 1.14016951e+11 2.39127613e+10]\n",
      " [3.30662891e+10 2.39127613e+10 1.10893754e+11]]\n",
      "\n"
     ]
    }
   ],
   "source": [
    "#Posición de los conductores (componente X(real),Y(imaginaria))\n",
    "FaseA=complex(FaseA_X,FaseA_Y-(2/3)*FL)\n",
    "FaseB=complex(FaseB_X,FaseB_Y-(2/3)*FL)\n",
    "FaseC=complex(FaseC_X,FaseC_Y-(2/3)*FL)\n",
    "FaseA_conjug=FaseA.conjugate()\n",
    "FaseB_conjug=FaseB.conjugate()\n",
    "FaseC_conjug=FaseC.conjugate()\n",
    "\n",
    "###Distancias reales entre fases:\n",
    "DAB=abs(FaseA-FaseB)\n",
    "DAC=abs(FaseA-FaseC)\n",
    "DBA=abs(FaseB-FaseA)\n",
    "DBC=abs(FaseB-FaseC)\n",
    "DCA=abs(FaseC-FaseA)\n",
    "DCB=abs(FaseC-FaseB)\n",
    "\n",
    "###Distancias entre la fase real i y la imagen de la fase j:\n",
    "DABj=abs(FaseA-FaseB_conjug)\n",
    "DACj=abs(FaseA-FaseC_conjug)\n",
    "DBAj=abs(FaseB-FaseA_conjug)\n",
    "DBCj=abs(FaseB-FaseC_conjug)\n",
    "DCAj=abs(FaseC-FaseA_conjug)\n",
    "DCBj=abs(FaseC-FaseB_conjug)\n",
    "    #print(DABj, DACj, DBAj, DBCj, DCAj, DCBj)\n",
    "    \n",
    "#Vector tensiones\n",
    "U=V/(3**(1/2))*1000\n",
    "MatrizA=np.array([[1],\n",
    "                [complex(-0.5,3**(1/2)/2)],\n",
    "                [complex(-0.5,-3**(1/2)/2)]\n",
    "                ])\n",
    "VecTen=U*MatrizA\n",
    "print(f\"La matriz de tensiones es:\\n {VecTen}\\n\")\n",
    "    \n",
    "##Matriz de coeficientes Maxwell\n",
    "P = np.array([[1/(2*np.pi*(e0))*math.log(2*(FaseA_Y-(2/3)*FL)/(Req/1000)), 1/(2*np.pi*(e0))*math.log(DABj/DAB) ,1/(2*np.pi*(e0))*math.log(DACj/DAC)],\n",
    "            [1/(2*np.pi*(e0))*math.log(DBAj/DBA), 1/(2*np.pi*(e0))*math.log(2*(FaseB_Y-(2/3)*FL)/(Req/1000)), 1/(2*np.pi*(e0))*math.log(DBCj/DBC)],\n",
    "            [1/(2*np.pi*(e0))*math.log(DCAj/DCA), 1/(2*np.pi*(e0))*math.log(DCBj/DCB), 1/(2*np.pi*(e0))*math.log(2*(FaseC_Y-(2/3)*FL)/(Req/1000))]])\n",
    "print(f\"La matriz P es:\\n {P}\\n\") \n",
    "    "
   ]
  },
  {
   "cell_type": "code",
   "execution_count": 5,
   "id": "f8f4ca3b-6051-4812-b65d-43ff2c157ecd",
   "metadata": {},
   "outputs": [
    {
     "name": "stdout",
     "output_type": "stream",
     "text": [
      "Matriz Capacitancias:\n",
      " [[ 9.67818753e-12 -1.73355961e-12 -2.51202199e-12]\n",
      " [-1.73355961e-12  9.49658555e-12 -1.53089956e-12]\n",
      " [-2.51202199e-12 -1.53089956e-12  1.00967930e-11]]\n",
      "\n"
     ]
    }
   ],
   "source": [
    "## Matriz de capacitancias\n",
    "C=np.linalg.inv(P)\n",
    "print(f\"Matriz Capacitancias:\\n {C}\\n\")"
   ]
  },
  {
   "cell_type": "code",
   "execution_count": 6,
   "id": "f4daca74-b5a4-456d-aed0-0a0acaa47188",
   "metadata": {},
   "outputs": [
    {
     "name": "stdout",
     "output_type": "stream",
     "text": [
      "Matriz de carga Q:\n",
      " [[ 1.56705854e-06+8.95231743e-08j]\n",
      " [-7.59084313e-07+1.26816079e-06j]\n",
      " [-9.02307712e-07-1.33718464e-06j]]\n",
      "\n"
     ]
    }
   ],
   "source": [
    "##Cálculo de la carga en los conductores Q=C*V\n",
    "Q=np.dot(C,VecTen)\n",
    "print(f\"Matriz de carga Q:\\n {Q}\\n\")"
   ]
  },
  {
   "cell_type": "code",
   "execution_count": 7,
   "id": "817a682d-f314-4e26-8831-ed2ad2cf0e1a",
   "metadata": {},
   "outputs": [
    {
     "name": "stdout",
     "output_type": "stream",
     "text": [
      "El campo eléctrico en los límites de la servidumbre es:\n",
      "(873.6958245658761, 825.7494110564903) V/m\n",
      "\n"
     ]
    },
    {
     "data": {
      "image/png": "[encoded data removed]",
      "text/plain": [
       "<Figure size 640x480 with 1 Axes>"
      ]
     },
     "metadata": {},
     "output_type": "display_data"
    }
   ],
   "source": [
    "Ancho=np.linspace(X1,X2,num=NI)\n",
    "Ea_x=(Q[0]/(2*np.pi*e0))*((FaseA_X-Ancho)/((FaseA_X-Ancho)**2+((FaseA_Y-(2/3)*FL)-H)**2)-(FaseA_X-Ancho)/((FaseA_X-Ancho)**2+((FaseA_Y-(2/3)*FL)+H)**2))\n",
    "Eb_x=(Q[1]/(2*np.pi*e0))*((FaseB_X-Ancho)/((FaseB_X-Ancho)**2+((FaseB_Y-(2/3)*FL)-H)**2)-(FaseB_X-Ancho)/((FaseB_X-Ancho)**2+((FaseB_Y-(2/3)*FL)+H)**2))\n",
    "Ec_x=(Q[2]/(2*np.pi*e0))*((FaseC_X-Ancho)/((FaseC_X-Ancho)**2+((FaseC_Y-(2/3)*FL)-H)**2)-(FaseC_X-Ancho)/((FaseC_X-Ancho)**2+((FaseC_Y-(2/3)*FL)+H)**2))\n",
    "Ea_y=(Q[0]/(2*np.pi*e0))*((H-(FaseA_Y-(2/3)*FL))/((FaseA_X-Ancho)**2+((FaseA_Y-(2/3)*FL)-H)**2)-(H+(FaseA_Y-(2/3)*FL))/((FaseA_X-Ancho)**2+((FaseA_Y-(2/3)*FL)+H)**2))\n",
    "Eb_y=(Q[1]/(2*np.pi*e0))*((H-(FaseB_Y-(2/3)*FL))/((FaseB_X-Ancho)**2+((FaseB_Y-(2/3)*FL)-H)**2)-(H+(FaseB_Y-(2/3)*FL))/((FaseB_X-Ancho)**2+((FaseB_Y-(2/3)*FL)+H)**2))\n",
    "Ec_y=(Q[2]/(2*np.pi*e0))*((H-(FaseC_Y-(2/3)*FL))/((FaseC_X-Ancho)**2+((FaseC_Y-(2/3)*FL)-H)**2)-(H+(FaseC_Y-(2/3)*FL))/((FaseC_X-Ancho)**2+((FaseC_Y-(2/3)*FL)+H)**2))\n",
    "\n",
    "Ex=Ea_x+Eb_x+Ec_x\n",
    "Ey=Ea_y+Eb_y+Ec_y\n",
    "\n",
    "E_total=(abs(Ex)**2+abs(Ey)**2)**0.5\n",
    "\n",
    "print(f\"El campo eléctrico en los límites de la servidumbre es:\\n{E_total[0], E_total[NI-1]} V/m\\n\")\n",
    "\n",
    "plt.plot(Ancho, E_total)\n",
    "plt.xlabel('Distancia') # definir el nombre del eje X\n",
    "plt.ylabel('Magnitud campo eléctrico [V/m]') # definir el nombre del eje Y\n",
    "plt.title('Campo eléctrico') # definir el titulo de la grafica\n",
    "plt.grid(True)\n",
    "plt.show()"
   ]
  },
  {
   "cell_type": "code",
   "execution_count": null,
   "id": "e2c5c0de-f66a-425f-a610-1a0012e25fc5",
   "metadata": {},
   "outputs": [],
   "source": []
  }
 ],
 "metadata": {
  "kernelspec": {
   "display_name": "Python 3 (ipykernel)",
   "language": "python",
   "name": "python3"
  },
  "language_info": {
   "codemirror_mode": {
    "name": "ipython",
    "version": 3
   },
   "file_extension": ".py",
   "mimetype": "text/x-python",
   "name": "python",
   "nbconvert_exporter": "python",
   "pygments_lexer": "ipython3",
   "version": "3.9.13"
  }
 },
 "nbformat": 4,
 "nbformat_minor": 5
}
